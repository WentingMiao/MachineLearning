{
 "cells": [
  {
   "cell_type": "markdown",
   "metadata": {},
   "source": [
    "<h1>Classification</h1>"
   ]
  },
  {
   "cell_type": "markdown",
   "metadata": {},
   "source": [
    "For this tutorial, esp. for the last task, among others, the following libraries need to be installed:\n",
    "<ul>\n",
    "    <li>pydot and dot.exe</li>\n",
    "    <li>graphviz</li>\n",
    "</ul>\n",
    "If they are not yet installed on your system, please install them. <br>\n",
    "Hints:<br>\n",
    "<pre>\n",
    "pip install pydot\n",
    "\n",
    "conda install -c https://conda.anaconda.org/anaconda graphviz\n",
    "\n",
    "Add the folder containing dot.exe to your system's PATH.\n",
    "\n",
    "If some error occurs, Google for the error message.\n",
    "</pre>"
   ]
  },
  {
   "cell_type": "markdown",
   "metadata": {},
   "source": [
    "Import necessary libraries"
   ]
  },
  {
   "cell_type": "code",
   "execution_count": 20,
   "metadata": {
    "scrolled": true
   },
   "outputs": [],
   "source": [
    "%matplotlib inline\n",
    "import numpy as np\n",
    "import matplotlib.pyplot as plt\n",
    "import urllib3\n",
    "import sklearn.linear_model\n",
    "import sklearn.tree\n",
    "import sklearn.datasets \n",
    "import sklearn.metrics\n",
    "from sklearn.externals.six import StringIO\n",
    "from IPython.display import Image\n",
    "import pydot"
   ]
  },
  {
   "cell_type": "markdown",
   "metadata": {},
   "source": [
    "Try to load the data..."
   ]
  },
  {
   "cell_type": "code",
   "execution_count": 21,
   "metadata": {
    "scrolled": false
   },
   "outputs": [],
   "source": [
    "data = np.loadtxt('https://archive.ics.uci.edu/ml/machine-learning-databases/semeion/semeion.data')"
   ]
  },
  {
   "cell_type": "markdown",
   "metadata": {},
   "source": [
    "If the above instruction fails, you might need to clean the data, before you can load it. See the next cell for an example."
   ]
  },
  {
   "cell_type": "code",
   "execution_count": 22,
   "metadata": {},
   "outputs": [
    {
     "name": "stderr",
     "output_type": "stream",
     "text": [
      "D:\\pyt\\lib\\site-packages\\urllib3\\connectionpool.py:847: InsecureRequestWarning: Unverified HTTPS request is being made. Adding certificate verification is strongly advised. See: https://urllib3.readthedocs.io/en/latest/advanced-usage.html#ssl-warnings\n",
      "  InsecureRequestWarning)\n"
     ]
    }
   ],
   "source": [
    "http = urllib3.PoolManager()\n",
    "response = http.request('GET', 'https://archive.ics.uci.edu/ml/machine-learning-databases/semeion/semeion.data')\n",
    "data_str = response.data.decode('utf-8')\n",
    "\n",
    "out_file = open('semeion_clean.data','w')\n",
    "for line in data_str.split('\\r\\n'):\n",
    "    out_file.write(line.strip()+'\\n')\n",
    "out_file.close()\n",
    "\n",
    "data = np.loadtxt('semeion_clean.data', delimiter=' ', skiprows = 0)"
   ]
  },
  {
   "cell_type": "markdown",
   "metadata": {},
   "source": [
    "<h2>Data Exploration</h2>"
   ]
  },
  {
   "cell_type": "code",
   "execution_count": 23,
   "metadata": {},
   "outputs": [
    {
     "data": {
      "text/plain": [
       "array([[0., 0., 0., ..., 0., 0., 0.],\n",
       "       [0., 0., 0., ..., 0., 0., 0.],\n",
       "       [0., 0., 0., ..., 0., 0., 0.],\n",
       "       ...,\n",
       "       [0., 0., 1., ..., 0., 0., 1.],\n",
       "       [0., 1., 1., ..., 0., 0., 1.],\n",
       "       [0., 0., 0., ..., 0., 0., 1.]])"
      ]
     },
     "execution_count": 23,
     "metadata": {},
     "output_type": "execute_result"
    }
   ],
   "source": [
    "data"
   ]
  },
  {
   "cell_type": "code",
   "execution_count": 24,
   "metadata": {},
   "outputs": [
    {
     "data": {
      "text/plain": [
       "1593"
      ]
     },
     "execution_count": 24,
     "metadata": {},
     "output_type": "execute_result"
    }
   ],
   "source": [
    "len(data)"
   ]
  },
  {
   "cell_type": "code",
   "execution_count": 25,
   "metadata": {},
   "outputs": [
    {
     "data": {
      "text/plain": [
       "266"
      ]
     },
     "execution_count": 25,
     "metadata": {},
     "output_type": "execute_result"
    }
   ],
   "source": [
    "len(data[0])"
   ]
  },
  {
   "cell_type": "markdown",
   "metadata": {},
   "source": [
    "Visualize the data"
   ]
  },
  {
   "cell_type": "code",
   "execution_count": 26,
   "metadata": {},
   "outputs": [],
   "source": [
    "m = np.zeros( (5,5) )\n",
    "m[:,2] = 1\n",
    "m[1,:] = 1"
   ]
  },
  {
   "cell_type": "code",
   "execution_count": 27,
   "metadata": {},
   "outputs": [
    {
     "data": {
      "text/plain": [
       "array([[0., 0., 1., 0., 0.],\n",
       "       [1., 1., 1., 1., 1.],\n",
       "       [0., 0., 1., 0., 0.],\n",
       "       [0., 0., 1., 0., 0.],\n",
       "       [0., 0., 1., 0., 0.]])"
      ]
     },
     "execution_count": 27,
     "metadata": {},
     "output_type": "execute_result"
    }
   ],
   "source": [
    "m"
   ]
  },
  {
   "cell_type": "code",
   "execution_count": 28,
   "metadata": {},
   "outputs": [
    {
     "data": {
      "image/png": "[encoded data removed]",
      "text/plain": [
       "<Figure size 432x288 with 1 Axes>"
      ]
     },
     "metadata": {
      "needs_background": "light"
     },
     "output_type": "display_data"
    }
   ],
   "source": [
    "plt.imshow(m);"
   ]
  },
  {
   "cell_type": "code",
   "execution_count": 29,
   "metadata": {},
   "outputs": [],
   "source": [
    "image_size = (16,16)\n",
    "an_image = np.reshape(data[0,0:256], image_size )"
   ]
  },
  {
   "cell_type": "code",
   "execution_count": 30,
   "metadata": {},
   "outputs": [
    {
     "data": {
      "text/plain": [
       "array([[0., 0., 0., 0., 0., 0., 1., 1., 1., 1., 1., 1., 1., 1., 0., 0.],\n",
       "       [0., 0., 0., 0., 0., 1., 1., 1., 1., 1., 1., 0., 1., 1., 0., 0.],\n",
       "       [0., 0., 0., 0., 1., 1., 1., 1., 1., 1., 0., 0., 0., 1., 1., 0.],\n",
       "       [0., 0., 0., 1., 1., 1., 1., 1., 0., 0., 0., 0., 1., 1., 1., 1.],\n",
       "       [0., 0., 0., 1., 1., 1., 1., 0., 1., 1., 1., 1., 1., 1., 1., 0.],\n",
       "       [0., 0., 0., 1., 1., 1., 0., 1., 1., 1., 1., 1., 0., 1., 1., 0.],\n",
       "       [0., 0., 1., 1., 1., 1., 1., 1., 1., 1., 0., 0., 0., 1., 1., 0.],\n",
       "       [0., 0., 1., 1., 1., 1., 1., 1., 0., 0., 0., 0., 1., 1., 0., 0.],\n",
       "       [0., 1., 1., 1., 1., 1., 1., 0., 0., 0., 0., 0., 1., 1., 0., 0.],\n",
       "       [0., 1., 1., 1., 1., 0., 0., 0., 0., 0., 0., 0., 1., 1., 0., 0.],\n",
       "       [0., 1., 1., 1., 0., 0., 0., 0., 0., 0., 1., 1., 1., 0., 0., 0.],\n",
       "       [1., 1., 1., 0., 0., 0., 0., 0., 0., 0., 1., 1., 0., 0., 0., 0.],\n",
       "       [1., 1., 1., 1., 0., 0., 0., 0., 1., 1., 1., 1., 0., 0., 0., 0.],\n",
       "       [1., 1., 1., 1., 0., 0., 0., 1., 1., 1., 0., 0., 0., 0., 0., 0.],\n",
       "       [1., 0., 1., 1., 1., 1., 1., 1., 1., 0., 0., 0., 0., 0., 0., 0.],\n",
       "       [0., 0., 0., 1., 1., 1., 1., 0., 0., 0., 0., 0., 0., 0., 0., 0.]])"
      ]
     },
     "execution_count": 30,
     "metadata": {},
     "output_type": "execute_result"
    }
   ],
   "source": [
    "an_image"
   ]
  },
  {
   "cell_type": "code",
   "execution_count": 31,
   "metadata": {},
   "outputs": [
    {
     "data": {
      "image/png": "[encoded data removed]",
      "text/plain": [
       "<Figure size 432x288 with 1 Axes>"
      ]
     },
     "metadata": {
      "needs_background": "light"
     },
     "output_type": "display_data"
    }
   ],
   "source": [
    "plt.imshow(an_image);"
   ]
  },
  {
   "cell_type": "code",
   "execution_count": 32,
   "metadata": {},
   "outputs": [],
   "source": [
    "def visualize_data(data, images_per_row = 10):\n",
    "    image_size = (16,16)\n",
    "    num_instances = len(data)\n",
    "    num_rows = int(num_instances/images_per_row)\n",
    "    for j in range(0,num_rows):\n",
    "        images = np.reshape(data[images_per_row*j,0:256],image_size)\n",
    "        for i in range(1,images_per_row):\n",
    "            next_image = np.reshape(data[images_per_row*j+i,0:256], image_size )\n",
    "            images = np.hstack( (images, next_image) )\n",
    "\n",
    "        plt.figure(figsize=(20, 2))\n",
    "        plt.imshow(images)\n",
    "        plt.show()"
   ]
  },
  {
   "cell_type": "markdown",
   "metadata": {},
   "source": [
    "<h2>Optional Homework</h2>\n",
    "\n",
    "If the number of images to be shown is not a multiple of the number of images per row, the last few images will not be shown. Modify the function in a way that all images are shown."
   ]
  },
  {
   "cell_type": "code",
   "execution_count": 33,
   "metadata": {
    "scrolled": false
   },
   "outputs": [
    {
     "data": {
      "image/png": "[encoded data removed]",
      "text/plain": [
       "<Figure size 1440x144 with 1 Axes>"
      ]
     },
     "metadata": {
      "needs_background": "light"
     },
     "output_type": "display_data"
    },
    {
     "data": {
      "image/png": "[encoded data removed]",
      "text/plain": [
       "<Figure size 1440x144 with 1 Axes>"
      ]
     },
     "metadata": {
      "needs_background": "light"
     },
     "output_type": "display_data"
    }
   ],
   "source": [
    "visualize_data(data[0:20] )"
   ]
  },
  {
   "cell_type": "code",
   "execution_count": 34,
   "metadata": {},
   "outputs": [],
   "source": [
    "which_images_to_plot = np.array(range(20))*10"
   ]
  },
  {
   "cell_type": "code",
   "execution_count": 35,
   "metadata": {},
   "outputs": [
    {
     "data": {
      "text/plain": [
       "array([  0,  10,  20,  30,  40,  50,  60,  70,  80,  90, 100, 110, 120,\n",
       "       130, 140, 150, 160, 170, 180, 190])"
      ]
     },
     "execution_count": 35,
     "metadata": {},
     "output_type": "execute_result"
    }
   ],
   "source": [
    "which_images_to_plot"
   ]
  },
  {
   "cell_type": "code",
   "execution_count": 36,
   "metadata": {},
   "outputs": [
    {
     "data": {
      "image/png": "[encoded data removed]",
      "text/plain": [
       "<Figure size 1440x144 with 1 Axes>"
      ]
     },
     "metadata": {
      "needs_background": "light"
     },
     "output_type": "display_data"
    },
    {
     "data": {
      "image/png": "[encoded data removed]",
      "text/plain": [
       "<Figure size 1440x144 with 1 Axes>"
      ]
     },
     "metadata": {
      "needs_background": "light"
     },
     "output_type": "display_data"
    }
   ],
   "source": [
    "visualize_data(data[which_images_to_plot])"
   ]
  },
  {
   "cell_type": "markdown",
   "metadata": {},
   "source": [
    "Let us have a look at the class labels"
   ]
  },
  {
   "cell_type": "code",
   "execution_count": 37,
   "metadata": {},
   "outputs": [
    {
     "data": {
      "text/plain": [
       "array([[1., 0., 0., 0., 0., 0., 0., 0., 0., 0.],\n",
       "       [1., 0., 0., 0., 0., 0., 0., 0., 0., 0.],\n",
       "       [0., 1., 0., 0., 0., 0., 0., 0., 0., 0.],\n",
       "       [0., 1., 0., 0., 0., 0., 0., 0., 0., 0.],\n",
       "       [0., 0., 1., 0., 0., 0., 0., 0., 0., 0.],\n",
       "       [0., 0., 1., 0., 0., 0., 0., 0., 0., 0.],\n",
       "       [0., 0., 0., 1., 0., 0., 0., 0., 0., 0.],\n",
       "       [0., 0., 0., 1., 0., 0., 0., 0., 0., 0.],\n",
       "       [0., 0., 0., 0., 1., 0., 0., 0., 0., 0.],\n",
       "       [0., 0., 0., 0., 1., 0., 0., 0., 0., 0.],\n",
       "       [0., 0., 0., 0., 0., 1., 0., 0., 0., 0.],\n",
       "       [0., 0., 0., 0., 0., 1., 0., 0., 0., 0.],\n",
       "       [0., 0., 0., 0., 0., 0., 1., 0., 0., 0.],\n",
       "       [0., 0., 0., 0., 0., 0., 1., 0., 0., 0.],\n",
       "       [0., 0., 0., 0., 0., 0., 0., 1., 0., 0.],\n",
       "       [0., 0., 0., 0., 0., 0., 0., 1., 0., 0.],\n",
       "       [0., 0., 0., 0., 0., 0., 0., 0., 1., 0.],\n",
       "       [0., 0., 0., 0., 0., 0., 0., 0., 1., 0.],\n",
       "       [0., 0., 0., 0., 0., 0., 0., 0., 0., 1.],\n",
       "       [0., 0., 0., 0., 0., 0., 0., 0., 0., 1.]])"
      ]
     },
     "execution_count": 37,
     "metadata": {},
     "output_type": "execute_result"
    }
   ],
   "source": [
    "data[which_images_to_plot,256:266]"
   ]
  },
  {
   "cell_type": "markdown",
   "metadata": {},
   "source": [
    "<h2>Task 1</h2>\n",
    "\n",
    "Split the data into disjoint train, validation and test sets, so that 100 randomly selected instances belong to the train set, 500  randomly selected instances belong to the validation set and the remaining instances belong to the test set.\n",
    "\n",
    "<b>Note:</b> Recognition of handwritten digits can be solved with high accuracy if enough training data is present. For the purpose of this tutorial, we use just a few training instances, i.e., we make the accuracy of the classifier arificially low. Otherwise, we would have almost perfect models and we could not demonstrate hyperparameter search."
   ]
  },
  {
   "cell_type": "code",
   "execution_count": 38,
   "metadata": {},
   "outputs": [],
   "source": [
    "# shuffle all data samples randomly and form a new order\n",
    "np.random.shuffle(data)\n",
    "\n",
    "# get the train data and labels\n",
    "train_data = data[0:100, 0:256]\n",
    "train_labels = data[0:100, 256:]\n",
    "\n",
    "# get the validation data and labels\n",
    "val_data = data[100:600, 0:256]\n",
    "val_labels = data[100:600, 256:]\n",
    "\n",
    "# get the test data and labels\n",
    "test_data = data[600:, 0:256]\n",
    "test_labels = data[600:, 256:]"
   ]
  },
  {
   "cell_type": "markdown",
   "metadata": {},
   "source": [
    "Next, we train a model that is able to recognize the digit \"8\""
   ]
  },
  {
   "cell_type": "code",
   "execution_count": 39,
   "metadata": {},
   "outputs": [
    {
     "name": "stderr",
     "output_type": "stream",
     "text": [
      "D:\\pyt\\lib\\site-packages\\sklearn\\linear_model\\logistic.py:432: FutureWarning: Default solver will be changed to 'lbfgs' in 0.22. Specify a solver to silence this warning.\n",
      "  FutureWarning)\n"
     ]
    },
    {
     "data": {
      "text/plain": [
       "LogisticRegression(C=1.0, class_weight=None, dual=False, fit_intercept=True,\n",
       "                   intercept_scaling=1, l1_ratio=None, max_iter=100,\n",
       "                   multi_class='warn', n_jobs=None, penalty='l2',\n",
       "                   random_state=None, solver='warn', tol=0.0001, verbose=0,\n",
       "                   warm_start=False)"
      ]
     },
     "execution_count": 39,
     "metadata": {},
     "output_type": "execute_result"
    }
   ],
   "source": [
    "model = sklearn.linear_model.LogisticRegression()\n",
    "model.fit(train_data, train_labels[:,8])"
   ]
  },
  {
   "cell_type": "code",
   "execution_count": 40,
   "metadata": {},
   "outputs": [],
   "source": [
    "predictions = model.predict(val_data)"
   ]
  },
  {
   "cell_type": "markdown",
   "metadata": {},
   "source": [
    "<h2>Task 2</h2>\n",
    "\n",
    "Visualize those images that were recognized as 8, as well as those images that were recognized as something else."
   ]
  },
  {
   "cell_type": "code",
   "execution_count": 41,
   "metadata": {},
   "outputs": [
    {
     "data": {
      "text/plain": [
       "array([False, False, False, False, False, False, False, False, False,\n",
       "       False, False, False, False, False, False, False, False, False,\n",
       "       False, False, False, False, False, False, False, False, False,\n",
       "       False, False, False, False, False, False, False, False, False,\n",
       "       False, False,  True, False, False, False, False, False, False,\n",
       "       False, False, False,  True, False, False, False, False, False,\n",
       "       False, False, False, False, False, False, False, False, False,\n",
       "       False, False, False, False, False, False, False, False, False,\n",
       "        True, False, False, False, False, False, False, False, False,\n",
       "       False, False, False, False, False, False,  True, False, False,\n",
       "       False,  True, False, False, False, False, False, False, False,\n",
       "       False, False, False, False,  True, False, False, False, False,\n",
       "       False, False, False, False, False, False, False, False, False,\n",
       "       False, False, False, False, False, False, False, False, False,\n",
       "       False, False, False, False, False, False, False, False, False,\n",
       "       False, False,  True, False, False, False, False, False, False,\n",
       "       False, False, False, False, False, False, False,  True, False,\n",
       "       False, False, False, False, False, False, False, False, False,\n",
       "       False, False, False, False, False, False, False, False, False,\n",
       "       False, False, False, False, False,  True, False, False, False,\n",
       "       False, False, False, False, False,  True, False, False, False,\n",
       "       False, False, False, False, False, False, False, False, False,\n",
       "       False, False, False, False, False, False, False, False, False,\n",
       "       False, False, False, False, False, False, False, False, False,\n",
       "       False, False, False, False, False, False, False, False,  True,\n",
       "       False, False, False, False, False, False, False, False, False,\n",
       "       False, False, False, False, False, False, False, False, False,\n",
       "       False, False,  True, False, False, False, False, False, False,\n",
       "       False, False, False, False, False, False, False, False, False,\n",
       "       False, False, False, False, False, False, False, False, False,\n",
       "       False,  True, False, False, False, False, False, False, False,\n",
       "       False, False, False, False, False, False, False, False, False,\n",
       "       False, False, False, False, False, False, False,  True, False,\n",
       "       False, False, False, False, False, False, False, False,  True,\n",
       "       False, False, False, False, False, False, False, False, False,\n",
       "       False, False, False,  True, False, False, False, False, False,\n",
       "        True, False, False, False, False, False, False, False, False,\n",
       "       False, False, False, False, False, False, False, False, False,\n",
       "       False, False, False, False, False, False, False, False, False,\n",
       "       False, False,  True, False, False, False, False, False, False,\n",
       "       False, False, False, False, False, False, False, False, False,\n",
       "       False, False, False, False, False, False, False, False, False,\n",
       "       False, False, False, False, False, False, False, False, False,\n",
       "       False, False, False, False, False, False, False, False, False,\n",
       "       False, False, False, False, False, False, False, False,  True,\n",
       "       False, False, False, False, False, False,  True, False, False,\n",
       "       False, False, False, False, False, False, False, False, False,\n",
       "       False, False, False, False, False, False, False, False, False,\n",
       "       False, False, False, False, False, False, False, False, False,\n",
       "       False,  True, False, False, False, False, False, False, False,\n",
       "       False, False, False, False, False, False, False, False, False,\n",
       "       False, False, False, False, False, False,  True, False, False,\n",
       "       False, False, False, False, False, False, False,  True, False,\n",
       "       False, False, False, False, False,  True, False, False, False,\n",
       "       False, False, False, False, False, False, False, False, False,\n",
       "       False, False, False, False, False])"
      ]
     },
     "execution_count": 41,
     "metadata": {},
     "output_type": "execute_result"
    }
   ],
   "source": [
    "predictions==1"
   ]
  },
  {
   "cell_type": "code",
   "execution_count": 42,
   "metadata": {},
   "outputs": [
    {
     "data": {
      "text/plain": [
       "array([[0., 0., 0., ..., 0., 0., 0.],\n",
       "       [0., 0., 0., ..., 0., 0., 0.],\n",
       "       [0., 0., 0., ..., 0., 0., 0.],\n",
       "       ...,\n",
       "       [0., 0., 0., ..., 0., 0., 0.],\n",
       "       [0., 0., 0., ..., 0., 0., 0.],\n",
       "       [0., 0., 0., ..., 0., 0., 0.]])"
      ]
     },
     "execution_count": 42,
     "metadata": {},
     "output_type": "execute_result"
    }
   ],
   "source": [
    "val_data[predictions==1]"
   ]
  },
  {
   "cell_type": "code",
   "execution_count": 43,
   "metadata": {},
   "outputs": [
    {
     "data": {
      "image/png": "[encoded data removed]",
      "text/plain": [
       "<Figure size 1440x144 with 1 Axes>"
      ]
     },
     "metadata": {
      "needs_background": "light"
     },
     "output_type": "display_data"
    },
    {
     "data": {
      "image/png": "[encoded data removed]",
      "text/plain": [
       "<Figure size 1440x144 with 1 Axes>"
      ]
     },
     "metadata": {
      "needs_background": "light"
     },
     "output_type": "display_data"
    }
   ],
   "source": [
    "val_data_reg_as_8 = val_data[predictions==1] # all samples in the validation set that are regonized as 8\n",
    "visualize_data(val_data_reg_as_8)"
   ]
  },
  {
   "cell_type": "code",
   "execution_count": 44,
   "metadata": {
    "scrolled": false
   },
   "outputs": [
    {
     "data": {
      "image/png": "[encoded data removed]",
      "text/plain": [
       "<Figure size 1440x144 with 1 Axes>"
      ]
     },
     "metadata": {
      "needs_background": "light"
     },
     "output_type": "display_data"
    },
    {
     "data": {
      "image/png": "[encoded data removed]",
      "text/plain": [
       "<Figure size 1440x144 with 1 Axes>"
      ]
     },
     "metadata": {
      "needs_background": "light"
     },
     "output_type": "display_data"
    },
    {
     "data": {
      "image/png": "[encoded data removed]",
      "text/plain": [
       "<Figure size 1440x144 with 1 Axes>"
      ]
     },
     "metadata": {
      "needs_background": "light"
     },
     "output_type": "display_data"
    },
    {
     "data": {
      "image/png": "[encoded data removed]",
      "text/plain": [
       "<Figure size 1440x144 with 1 Axes>"
      ]
     },
     "metadata": {
      "needs_background": "light"
     },
     "output_type": "display_data"
    },
    {
     "data": {
      "image/png": "[encoded data removed]",
      "text/plain": [
       "<Figure size 1440x144 with 1 Axes>"
      ]
     },
     "metadata": {
      "needs_background": "light"
     },
     "output_type": "display_data"
    },
    {
     "data": {
      "image/png": "[encoded data removed]",
      "text/plain": [
       "<Figure size 1440x144 with 1 Axes>"
      ]
     },
     "metadata": {
      "needs_background": "light"
     },
     "output_type": "display_data"
    },
    {
     "data": {
      "image/png": "[encoded data removed]",
      "text/plain": [
       "<Figure size 1440x144 with 1 Axes>"
      ]
     },
     "metadata": {
      "needs_background": "light"
     },
     "output_type": "display_data"
    },
    {
     "data": {
      "image/png": "[encoded data removed]",
      "text/plain": [
       "<Figure size 1440x144 with 1 Axes>"
      ]
     },
     "metadata": {
      "needs_background": "light"
     },
     "output_type": "display_data"
    },
    {
     "data": {
      "image/png": "[encoded data removed]",
      "text/plain": [
       "<Figure size 1440x144 with 1 Axes>"
      ]
     },
     "metadata": {
      "needs_background": "light"
     },
     "output_type": "display_data"
    },
    {
     "data": {
      "image/png": "[encoded data removed]",
      "text/plain": [
       "<Figure size 1440x144 with 1 Axes>"
      ]
     },
     "metadata": {
      "needs_background": "light"
     },
     "output_type": "display_data"
    },
    {
     "data": {
      "image/png": "[encoded data removed]",
      "text/plain": [
       "<Figure size 1440x144 with 1 Axes>"
      ]
     },
     "metadata": {
      "needs_background": "light"
     },
     "output_type": "display_data"
    },
    {
     "data": {
      "image/png": "[encoded data removed]",
      "text/plain": [
       "<Figure size 1440x144 with 1 Axes>"
      ]
     },
     "metadata": {
      "needs_background": "light"
     },
     "output_type": "display_data"
    },
    {
     "data": {
      "image/png": "[encoded data removed]",
      "text/plain": [
       "<Figure size 1440x144 with 1 Axes>"
      ]
     },
     "metadata": {
      "needs_background": "light"
     },
     "output_type": "display_data"
    },
    {
     "data": {
      "image/png": "[encoded data removed]",
      "text/plain": [
       "<Figure size 1440x144 with 1 Axes>"
      ]
     },
     "metadata": {
      "needs_background": "light"
     },
     "output_type": "display_data"
    },
    {
     "data": {
      "image/png": "[encoded data removed]",
      "text/plain": [
       "<Figure size 1440x144 with 1 Axes>"
      ]
     },
     "metadata": {
      "needs_background": "light"
     },
     "output_type": "display_data"
    },
    {
     "data": {
      "image/png": "[encoded data removed]",
      "text/plain": [
       "<Figure size 1440x144 with 1 Axes>"
      ]
     },
     "metadata": {
      "needs_background": "light"
     },
     "output_type": "display_data"
    },
    {
     "data": {
      "image/png": "[encoded data removed]",
      "text/plain": [
       "<Figure size 1440x144 with 1 Axes>"
      ]
     },
     "metadata": {
      "needs_background": "light"
     },
     "output_type": "display_data"
    },
    {
     "data": {
      "image/png": "[encoded data removed]",
      "text/plain": [
       "<Figure size 1440x144 with 1 Axes>"
      ]
     },
     "metadata": {
      "needs_background": "light"
     },
     "output_type": "display_data"
    },
    {
     "data": {
      "image/png": "[encoded data removed]",
      "text/plain": [
       "<Figure size 1440x144 with 1 Axes>"
      ]
     },
     "metadata": {
      "needs_background": "light"
     },
     "output_type": "display_data"
    },
    {
     "data": {
      "image/png": "[encoded data removed]",
      "text/plain": [
       "<Figure size 1440x144 with 1 Axes>"
      ]
     },
     "metadata": {
      "needs_background": "light"
     },
     "output_type": "display_data"
    },
    {
     "data": {
      "image/png": "[encoded data removed]",
      "text/plain": [
       "<Figure size 1440x144 with 1 Axes>"
      ]
     },
     "metadata": {
      "needs_background": "light"
     },
     "output_type": "display_data"
    },
    {
     "data": {
      "image/png": "[encoded data removed]",
      "text/plain": [
       "<Figure size 1440x144 with 1 Axes>"
      ]
     },
     "metadata": {
      "needs_background": "light"
     },
     "output_type": "display_data"
    },
    {
     "data": {
      "image/png": "[encoded data removed]",
      "text/plain": [
       "<Figure size 1440x144 with 1 Axes>"
      ]
     },
     "metadata": {
      "needs_background": "light"
     },
     "output_type": "display_data"
    },
    {
     "data": {
      "image/png": "[encoded data removed]",
      "text/plain": [
       "<Figure size 1440x144 with 1 Axes>"
      ]
     },
     "metadata": {
      "needs_background": "light"
     },
     "output_type": "display_data"
    },
    {
     "data": {
      "image/png": "[encoded data removed]",
      "text/plain": [
       "<Figure size 1440x144 with 1 Axes>"
      ]
     },
     "metadata": {
      "needs_background": "light"
     },
     "output_type": "display_data"
    },
    {
     "data": {
      "image/png": "[encoded data removed]",
      "text/plain": [
       "<Figure size 1440x144 with 1 Axes>"
      ]
     },
     "metadata": {
      "needs_background": "light"
     },
     "output_type": "display_data"
    },
    {
     "data": {
      "image/png": "[encoded data removed]",
      "text/plain": [
       "<Figure size 1440x144 with 1 Axes>"
      ]
     },
     "metadata": {
      "needs_background": "light"
     },
     "output_type": "display_data"
    },
    {
     "data": {
      "image/png": "[encoded data removed]",
      "text/plain": [
       "<Figure size 1440x144 with 1 Axes>"
      ]
     },
     "metadata": {
      "needs_background": "light"
     },
     "output_type": "display_data"
    },
    {
     "data": {
      "image/png": "[encoded data removed]",
      "text/plain": [
       "<Figure size 1440x144 with 1 Axes>"
      ]
     },
     "metadata": {
      "needs_background": "light"
     },
     "output_type": "display_data"
    },
    {
     "data": {
      "image/png": "[encoded data removed]",
      "text/plain": [
       "<Figure size 1440x144 with 1 Axes>"
      ]
     },
     "metadata": {
      "needs_background": "light"
     },
     "output_type": "display_data"
    },
    {
     "data": {
      "image/png": "[encoded data removed]",
      "text/plain": [
       "<Figure size 1440x144 with 1 Axes>"
      ]
     },
     "metadata": {
      "needs_background": "light"
     },
     "output_type": "display_data"
    },
    {
     "data": {
      "image/png": "[encoded data removed]",
      "text/plain": [
       "<Figure size 1440x144 with 1 Axes>"
      ]
     },
     "metadata": {
      "needs_background": "light"
     },
     "output_type": "display_data"
    },
    {
     "data": {
      "image/png": "[encoded data removed]",
      "text/plain": [
       "<Figure size 1440x144 with 1 Axes>"
      ]
     },
     "metadata": {
      "needs_background": "light"
     },
     "output_type": "display_data"
    },
    {
     "data": {
      "image/png": "[encoded data removed]",
      "text/plain": [
       "<Figure size 1440x144 with 1 Axes>"
      ]
     },
     "metadata": {
      "needs_background": "light"
     },
     "output_type": "display_data"
    },
    {
     "data": {
      "image/png": "[encoded data removed]",
      "text/plain": [
       "<Figure size 1440x144 with 1 Axes>"
      ]
     },
     "metadata": {
      "needs_background": "light"
     },
     "output_type": "display_data"
    },
    {
     "data": {
      "image/png": "[encoded data removed]",
      "text/plain": [
       "<Figure size 1440x144 with 1 Axes>"
      ]
     },
     "metadata": {
      "needs_background": "light"
     },
     "output_type": "display_data"
    },
    {
     "data": {
      "image/png": "[encoded data removed]",
      "text/plain": [
       "<Figure size 1440x144 with 1 Axes>"
      ]
     },
     "metadata": {
      "needs_background": "light"
     },
     "output_type": "display_data"
    },
    {
     "data": {
      "image/png": "[encoded data removed]",
      "text/plain": [
       "<Figure size 1440x144 with 1 Axes>"
      ]
     },
     "metadata": {
      "needs_background": "light"
     },
     "output_type": "display_data"
    },
    {
     "data": {
      "image/png": "[encoded data removed]",
      "text/plain": [
       "<Figure size 1440x144 with 1 Axes>"
      ]
     },
     "metadata": {
      "needs_background": "light"
     },
     "output_type": "display_data"
    },
    {
     "data": {
      "image/png": "[encoded data removed]",
      "text/plain": [
       "<Figure size 1440x144 with 1 Axes>"
      ]
     },
     "metadata": {
      "needs_background": "light"
     },
     "output_type": "display_data"
    },
    {
     "data": {
      "image/png": "[encoded data removed]",
      "text/plain": [
       "<Figure size 1440x144 with 1 Axes>"
      ]
     },
     "metadata": {
      "needs_background": "light"
     },
     "output_type": "display_data"
    },
    {
     "data": {
      "image/png": "[encoded data removed]",
      "text/plain": [
       "<Figure size 1440x144 with 1 Axes>"
      ]
     },
     "metadata": {
      "needs_background": "light"
     },
     "output_type": "display_data"
    },
    {
     "data": {
      "image/png": "[encoded data removed]",
      "text/plain": [
       "<Figure size 1440x144 with 1 Axes>"
      ]
     },
     "metadata": {
      "needs_background": "light"
     },
     "output_type": "display_data"
    },
    {
     "data": {
      "image/png": "[encoded data removed]",
      "text/plain": [
       "<Figure size 1440x144 with 1 Axes>"
      ]
     },
     "metadata": {
      "needs_background": "light"
     },
     "output_type": "display_data"
    },
    {
     "data": {
      "image/png": "[encoded data removed]",
      "text/plain": [
       "<Figure size 1440x144 with 1 Axes>"
      ]
     },
     "metadata": {
      "needs_background": "light"
     },
     "output_type": "display_data"
    },
    {
     "data": {
      "image/png": "[encoded data removed]",
      "text/plain": [
       "<Figure size 1440x144 with 1 Axes>"
      ]
     },
     "metadata": {
      "needs_background": "light"
     },
     "output_type": "display_data"
    },
    {
     "data": {
      "image/png": "[encoded data removed]",
      "text/plain": [
       "<Figure size 1440x144 with 1 Axes>"
      ]
     },
     "metadata": {
      "needs_background": "light"
     },
     "output_type": "display_data"
    }
   ],
   "source": [
    "val_data_reg_as_not_8 = val_data[predictions==0] # all samples in the validation set that are regonized as anything else\n",
    "visualize_data(val_data_reg_as_not_8)"
   ]
  },
  {
   "cell_type": "markdown",
   "metadata": {},
   "source": [
    "Calculate accuracy on the validation set"
   ]
  },
  {
   "cell_type": "code",
   "execution_count": 45,
   "metadata": {},
   "outputs": [
    {
     "data": {
      "text/plain": [
       "0.924"
      ]
     },
     "execution_count": 45,
     "metadata": {},
     "output_type": "execute_result"
    }
   ],
   "source": [
    "model.score(val_data, val_labels[:,8])"
   ]
  },
  {
   "cell_type": "code",
   "execution_count": 46,
   "metadata": {},
   "outputs": [
    {
     "data": {
      "text/plain": [
       "0.47222222222222227"
      ]
     },
     "execution_count": 46,
     "metadata": {},
     "output_type": "execute_result"
    }
   ],
   "source": [
    "sklearn.metrics.f1_score(predictions, val_labels[:,8])"
   ]
  },
  {
   "cell_type": "markdown",
   "metadata": {},
   "source": [
    "<h2>Task 3</h2>\n",
    "\n",
    "Hyperparameter learning: Using the validation set, determine the best value of the regularisation parameter $C$. $C$ is analogous to $\\lambda$, however, lower values of $C$ mean <i>higher</i> importance of the regularisation term because $C=\\frac{1}{\\lambda}$. Furthermore, decide, whether $L_1$ or $L_2$ regularisation leads to better results. <br>\n",
    "Hint: you may need to consult the documentation of <b>sklearn.linear_model.LogisticRegression</b> in order to solve this task."
   ]
  },
  {
   "cell_type": "code",
   "execution_count": 47,
   "metadata": {},
   "outputs": [
    {
     "name": "stderr",
     "output_type": "stream",
     "text": [
      "D:\\pyt\\lib\\site-packages\\sklearn\\linear_model\\logistic.py:432: FutureWarning: Default solver will be changed to 'lbfgs' in 0.22. Specify a solver to silence this warning.\n",
      "  FutureWarning)\n",
      "D:\\pyt\\lib\\site-packages\\sklearn\\linear_model\\logistic.py:432: FutureWarning: Default solver will be changed to 'lbfgs' in 0.22. Specify a solver to silence this warning.\n",
      "  FutureWarning)\n",
      "D:\\pyt\\lib\\site-packages\\sklearn\\linear_model\\logistic.py:432: FutureWarning: Default solver will be changed to 'lbfgs' in 0.22. Specify a solver to silence this warning.\n",
      "  FutureWarning)\n",
      "D:\\pyt\\lib\\site-packages\\sklearn\\linear_model\\logistic.py:432: FutureWarning: Default solver will be changed to 'lbfgs' in 0.22. Specify a solver to silence this warning.\n",
      "  FutureWarning)\n",
      "D:\\pyt\\lib\\site-packages\\sklearn\\linear_model\\logistic.py:432: FutureWarning: Default solver will be changed to 'lbfgs' in 0.22. Specify a solver to silence this warning.\n",
      "  FutureWarning)\n",
      "D:\\pyt\\lib\\site-packages\\sklearn\\linear_model\\logistic.py:432: FutureWarning: Default solver will be changed to 'lbfgs' in 0.22. Specify a solver to silence this warning.\n",
      "  FutureWarning)\n",
      "D:\\pyt\\lib\\site-packages\\sklearn\\linear_model\\logistic.py:432: FutureWarning: Default solver will be changed to 'lbfgs' in 0.22. Specify a solver to silence this warning.\n",
      "  FutureWarning)\n",
      "D:\\pyt\\lib\\site-packages\\sklearn\\linear_model\\logistic.py:432: FutureWarning: Default solver will be changed to 'lbfgs' in 0.22. Specify a solver to silence this warning.\n",
      "  FutureWarning)\n",
      "D:\\pyt\\lib\\site-packages\\sklearn\\linear_model\\logistic.py:432: FutureWarning: Default solver will be changed to 'lbfgs' in 0.22. Specify a solver to silence this warning.\n",
      "  FutureWarning)\n",
      "D:\\pyt\\lib\\site-packages\\sklearn\\linear_model\\logistic.py:432: FutureWarning: Default solver will be changed to 'lbfgs' in 0.22. Specify a solver to silence this warning.\n",
      "  FutureWarning)\n",
      "D:\\pyt\\lib\\site-packages\\sklearn\\linear_model\\logistic.py:432: FutureWarning: Default solver will be changed to 'lbfgs' in 0.22. Specify a solver to silence this warning.\n",
      "  FutureWarning)\n",
      "D:\\pyt\\lib\\site-packages\\sklearn\\linear_model\\logistic.py:432: FutureWarning: Default solver will be changed to 'lbfgs' in 0.22. Specify a solver to silence this warning.\n",
      "  FutureWarning)\n",
      "D:\\pyt\\lib\\site-packages\\sklearn\\linear_model\\logistic.py:432: FutureWarning: Default solver will be changed to 'lbfgs' in 0.22. Specify a solver to silence this warning.\n",
      "  FutureWarning)\n",
      "D:\\pyt\\lib\\site-packages\\sklearn\\linear_model\\logistic.py:432: FutureWarning: Default solver will be changed to 'lbfgs' in 0.22. Specify a solver to silence this warning.\n",
      "  FutureWarning)\n",
      "D:\\pyt\\lib\\site-packages\\sklearn\\linear_model\\logistic.py:432: FutureWarning: Default solver will be changed to 'lbfgs' in 0.22. Specify a solver to silence this warning.\n",
      "  FutureWarning)\n",
      "D:\\pyt\\lib\\site-packages\\sklearn\\linear_model\\logistic.py:432: FutureWarning: Default solver will be changed to 'lbfgs' in 0.22. Specify a solver to silence this warning.\n",
      "  FutureWarning)\n",
      "D:\\pyt\\lib\\site-packages\\sklearn\\linear_model\\logistic.py:432: FutureWarning: Default solver will be changed to 'lbfgs' in 0.22. Specify a solver to silence this warning.\n",
      "  FutureWarning)\n",
      "D:\\pyt\\lib\\site-packages\\sklearn\\linear_model\\logistic.py:432: FutureWarning: Default solver will be changed to 'lbfgs' in 0.22. Specify a solver to silence this warning.\n",
      "  FutureWarning)\n",
      "D:\\pyt\\lib\\site-packages\\sklearn\\linear_model\\logistic.py:432: FutureWarning: Default solver will be changed to 'lbfgs' in 0.22. Specify a solver to silence this warning.\n",
      "  FutureWarning)\n",
      "D:\\pyt\\lib\\site-packages\\sklearn\\linear_model\\logistic.py:432: FutureWarning: Default solver will be changed to 'lbfgs' in 0.22. Specify a solver to silence this warning.\n",
      "  FutureWarning)\n"
     ]
    }
   ],
   "source": [
    "C_values = [1, 2, 5, 10, 20, 50, 100, 200, 500, 1000]\n",
    "regularisation_types = ['l1', 'l2']\n",
    "\n",
    "best_f1_score = float('inf')\n",
    "best_model = None\n",
    "\n",
    "for C_value in C_values:\n",
    "    for regularisation_type in regularisation_types:\n",
    "        model = sklearn.linear_model.LogisticRegression(C=C_value, penalty=regularisation_type)\n",
    "        model.fit(train_data, train_labels[:, 8])\n",
    "        predictions = model.predict(test_data)\n",
    "        f = sklearn.metrics.f1_score(predictions, test_labels[:, 8])\n",
    "\n",
    "        \n",
    "\n",
    "        if f < best_f1_score:\n",
    "            best_model = model"
   ]
  },
  {
   "cell_type": "markdown",
   "metadata": {},
   "source": [
    "We assess the quality of the \"best\" model using the test set."
   ]
  },
  {
   "cell_type": "code",
   "execution_count": 48,
   "metadata": {},
   "outputs": [
    {
     "name": "stderr",
     "output_type": "stream",
     "text": [
      "D:\\pyt\\lib\\site-packages\\sklearn\\linear_model\\logistic.py:432: FutureWarning: Default solver will be changed to 'lbfgs' in 0.22. Specify a solver to silence this warning.\n",
      "  FutureWarning)\n"
     ]
    }
   ],
   "source": [
    "model = sklearn.linear_model.LogisticRegression(C=20, penalty='l1')\n",
    "model.fit(train_data, train_labels[:,8])\n",
    "predictions = model.predict(test_data)\n",
    "f = sklearn.metrics.f1_score(predictions, test_labels[:,8])"
   ]
  },
  {
   "cell_type": "code",
   "execution_count": 49,
   "metadata": {},
   "outputs": [
    {
     "data": {
      "text/plain": [
       "0.4331210191082802"
      ]
     },
     "execution_count": 49,
     "metadata": {},
     "output_type": "execute_result"
    }
   ],
   "source": [
    "f"
   ]
  },
  {
   "cell_type": "markdown",
   "metadata": {},
   "source": [
    "Predictions on a continuous scale: probabilities of being an \"8\""
   ]
  },
  {
   "cell_type": "code",
   "execution_count": 50,
   "metadata": {},
   "outputs": [],
   "source": [
    "predictions = model.predict_proba(val_data)"
   ]
  },
  {
   "cell_type": "code",
   "execution_count": 51,
   "metadata": {
    "scrolled": false
   },
   "outputs": [
    {
     "data": {
      "text/plain": [
       "array([[9.99600031e-01, 3.99969364e-04],\n",
       "       [7.78129041e-01, 2.21870959e-01],\n",
       "       [9.99912340e-01, 8.76597391e-05],\n",
       "       [9.97306042e-01, 2.69395757e-03],\n",
       "       [9.98157538e-01, 1.84246174e-03],\n",
       "       [9.99932123e-01, 6.78768169e-05],\n",
       "       [7.57923915e-01, 2.42076085e-01],\n",
       "       [6.59849969e-01, 3.40150031e-01],\n",
       "       [9.99648490e-01, 3.51510063e-04],\n",
       "       [7.93948604e-01, 2.06051396e-01],\n",
       "       [9.98300675e-01, 1.69932483e-03],\n",
       "       [9.99348292e-01, 6.51708300e-04],\n",
       "       [5.07015357e-01, 4.92984643e-01],\n",
       "       [6.87003515e-01, 3.12996485e-01],\n",
       "       [9.98589384e-01, 1.41061611e-03],\n",
       "       [1.67993383e-01, 8.32006617e-01],\n",
       "       [9.98939703e-01, 1.06029674e-03],\n",
       "       [9.93359931e-01, 6.64006860e-03],\n",
       "       [9.99851182e-01, 1.48818431e-04],\n",
       "       [9.83729979e-01, 1.62700207e-02],\n",
       "       [9.99990473e-01, 9.52740369e-06],\n",
       "       [9.99953000e-01, 4.70001472e-05],\n",
       "       [9.99203209e-01, 7.96791243e-04],\n",
       "       [9.99972188e-01, 2.78118927e-05],\n",
       "       [9.98707655e-01, 1.29234537e-03],\n",
       "       [9.99903613e-01, 9.63869498e-05],\n",
       "       [9.93734008e-01, 6.26599214e-03],\n",
       "       [9.99158111e-01, 8.41888583e-04],\n",
       "       [9.99573832e-01, 4.26168316e-04],\n",
       "       [9.99519327e-01, 4.80673053e-04],\n",
       "       [9.93772090e-01, 6.22790985e-03],\n",
       "       [2.80199656e-01, 7.19800344e-01],\n",
       "       [9.97370706e-01, 2.62929405e-03],\n",
       "       [8.52849355e-01, 1.47150645e-01],\n",
       "       [9.93879180e-01, 6.12082038e-03],\n",
       "       [9.99876070e-01, 1.23929719e-04],\n",
       "       [9.97304832e-01, 2.69516844e-03],\n",
       "       [9.96390452e-01, 3.60954832e-03],\n",
       "       [8.56127263e-01, 1.43872737e-01],\n",
       "       [9.99990016e-01, 9.98374056e-06],\n",
       "       [9.99997269e-01, 2.73118952e-06],\n",
       "       [9.97841805e-01, 2.15819547e-03],\n",
       "       [9.53505482e-01, 4.64945180e-02],\n",
       "       [9.98458324e-01, 1.54167634e-03],\n",
       "       [9.99725849e-01, 2.74150639e-04],\n",
       "       [9.84274173e-01, 1.57258268e-02],\n",
       "       [9.99998901e-01, 1.09914385e-06],\n",
       "       [9.99751925e-01, 2.48075183e-04],\n",
       "       [8.01438176e-01, 1.98561824e-01],\n",
       "       [1.09847104e-01, 8.90152896e-01],\n",
       "       [9.93187658e-01, 6.81234166e-03],\n",
       "       [9.99939400e-01, 6.06004839e-05],\n",
       "       [9.95033862e-01, 4.96613811e-03],\n",
       "       [9.86318419e-01, 1.36815812e-02],\n",
       "       [9.99883152e-01, 1.16847577e-04],\n",
       "       [9.99987491e-01, 1.25087836e-05],\n",
       "       [9.99934256e-01, 6.57439093e-05],\n",
       "       [9.99637402e-01, 3.62598425e-04],\n",
       "       [8.69765905e-01, 1.30234095e-01],\n",
       "       [9.99554143e-01, 4.45856990e-04],\n",
       "       [9.56869013e-01, 4.31309874e-02],\n",
       "       [8.21253951e-01, 1.78746049e-01],\n",
       "       [9.98347621e-01, 1.65237913e-03],\n",
       "       [9.89424962e-01, 1.05750378e-02],\n",
       "       [9.97609629e-01, 2.39037124e-03],\n",
       "       [9.82204288e-01, 1.77957125e-02],\n",
       "       [9.98475195e-01, 1.52480540e-03],\n",
       "       [9.99948139e-01, 5.18614407e-05],\n",
       "       [9.99598773e-01, 4.01226884e-04],\n",
       "       [9.69678947e-01, 3.03210525e-02],\n",
       "       [9.38628766e-01, 6.13712340e-02],\n",
       "       [9.99789548e-01, 2.10451625e-04],\n",
       "       [4.02705764e-04, 9.99597294e-01],\n",
       "       [9.99130447e-01, 8.69552509e-04],\n",
       "       [6.59678405e-01, 3.40321595e-01],\n",
       "       [9.99965037e-01, 3.49625369e-05],\n",
       "       [9.88315395e-01, 1.16846053e-02],\n",
       "       [9.96835604e-01, 3.16439623e-03],\n",
       "       [4.29681351e-01, 5.70318649e-01],\n",
       "       [9.99984703e-01, 1.52968737e-05],\n",
       "       [3.87318292e-01, 6.12681708e-01],\n",
       "       [9.99528533e-01, 4.71466903e-04],\n",
       "       [9.99930467e-01, 6.95327505e-05],\n",
       "       [9.63896072e-01, 3.61039276e-02],\n",
       "       [6.64113794e-01, 3.35886206e-01],\n",
       "       [9.96249369e-01, 3.75063116e-03],\n",
       "       [9.82651291e-01, 1.73487092e-02],\n",
       "       [4.46908357e-01, 5.53091643e-01],\n",
       "       [9.96909336e-01, 3.09066435e-03],\n",
       "       [9.99998033e-01, 1.96726495e-06],\n",
       "       [9.93494277e-01, 6.50572345e-03],\n",
       "       [7.51217380e-02, 9.24878262e-01],\n",
       "       [6.66232833e-01, 3.33767167e-01],\n",
       "       [9.99953120e-01, 4.68796862e-05],\n",
       "       [9.95105705e-01, 4.89429479e-03],\n",
       "       [9.41990052e-01, 5.80099477e-02],\n",
       "       [9.99853348e-01, 1.46651678e-04],\n",
       "       [9.99168347e-01, 8.31652548e-04],\n",
       "       [9.99804158e-01, 1.95842293e-04],\n",
       "       [9.98540587e-01, 1.45941310e-03],\n",
       "       [5.71826261e-01, 4.28173739e-01],\n",
       "       [9.99925704e-01, 7.42964357e-05],\n",
       "       [9.99978203e-01, 2.17967027e-05],\n",
       "       [6.15368011e-01, 3.84631989e-01],\n",
       "       [8.30533757e-01, 1.69466243e-01],\n",
       "       [9.99107140e-01, 8.92859768e-04],\n",
       "       [9.99855472e-01, 1.44528214e-04],\n",
       "       [9.98890980e-01, 1.10901962e-03],\n",
       "       [9.99607666e-01, 3.92333548e-04],\n",
       "       [9.99825418e-01, 1.74582350e-04],\n",
       "       [9.80721119e-01, 1.92788806e-02],\n",
       "       [9.99786565e-01, 2.13434619e-04],\n",
       "       [7.60735578e-01, 2.39264422e-01],\n",
       "       [9.58161323e-01, 4.18386769e-02],\n",
       "       [9.99947870e-01, 5.21298691e-05],\n",
       "       [9.72128809e-01, 2.78711908e-02],\n",
       "       [9.99172408e-01, 8.27591789e-04],\n",
       "       [9.99367212e-01, 6.32788301e-04],\n",
       "       [9.99853211e-01, 1.46788678e-04],\n",
       "       [9.97460554e-01, 2.53944621e-03],\n",
       "       [9.78190045e-01, 2.18099553e-02],\n",
       "       [9.99236216e-01, 7.63783570e-04],\n",
       "       [9.99975776e-01, 2.42239806e-05],\n",
       "       [9.65466142e-01, 3.45338581e-02],\n",
       "       [9.99209118e-01, 7.90881620e-04],\n",
       "       [9.99227527e-01, 7.72473451e-04],\n",
       "       [9.99955164e-01, 4.48358901e-05],\n",
       "       [9.87374427e-01, 1.26255730e-02],\n",
       "       [9.98577035e-01, 1.42296521e-03],\n",
       "       [9.97674455e-01, 2.32554502e-03],\n",
       "       [8.69211959e-01, 1.30788041e-01],\n",
       "       [9.57825908e-01, 4.21740919e-02],\n",
       "       [9.87621999e-01, 1.23780010e-02],\n",
       "       [9.97074024e-01, 2.92597587e-03],\n",
       "       [9.99964659e-01, 3.53405286e-05],\n",
       "       [9.99659067e-01, 3.40932687e-04],\n",
       "       [9.99870317e-01, 1.29683007e-04],\n",
       "       [5.45769411e-02, 9.45423059e-01],\n",
       "       [9.98760282e-01, 1.23971841e-03],\n",
       "       [9.99788457e-01, 2.11542860e-04],\n",
       "       [9.94674914e-01, 5.32508598e-03],\n",
       "       [9.99940714e-01, 5.92858784e-05],\n",
       "       [9.99373821e-01, 6.26179393e-04],\n",
       "       [9.99837058e-01, 1.62941949e-04],\n",
       "       [9.92062485e-01, 7.93751528e-03],\n",
       "       [9.99996645e-01, 3.35472394e-06],\n",
       "       [9.99952334e-01, 4.76657696e-05],\n",
       "       [9.99646845e-01, 3.53154812e-04],\n",
       "       [9.99993582e-01, 6.41773242e-06],\n",
       "       [4.10547011e-01, 5.89452989e-01],\n",
       "       [9.97831147e-01, 2.16885290e-03],\n",
       "       [2.89211665e-03, 9.97107883e-01],\n",
       "       [9.99723312e-01, 2.76687686e-04],\n",
       "       [9.94352577e-01, 5.64742285e-03],\n",
       "       [9.58844436e-01, 4.11555640e-02],\n",
       "       [9.99932122e-01, 6.78777315e-05],\n",
       "       [9.98305418e-01, 1.69458176e-03],\n",
       "       [9.74236439e-01, 2.57635611e-02],\n",
       "       [9.77075613e-01, 2.29243866e-02],\n",
       "       [9.98408445e-01, 1.59155543e-03],\n",
       "       [9.99972488e-01, 2.75119623e-05],\n",
       "       [9.99658630e-01, 3.41370035e-04],\n",
       "       [6.97429767e-01, 3.02570233e-01],\n",
       "       [9.99815893e-01, 1.84106616e-04],\n",
       "       [3.02738774e-01, 6.97261226e-01],\n",
       "       [9.31925100e-01, 6.80749000e-02],\n",
       "       [9.99950684e-01, 4.93155977e-05],\n",
       "       [9.90909173e-01, 9.09082682e-03],\n",
       "       [7.50658305e-01, 2.49341695e-01],\n",
       "       [9.96593364e-01, 3.40663557e-03],\n",
       "       [9.99979271e-01, 2.07289052e-05],\n",
       "       [9.99985590e-01, 1.44101524e-05],\n",
       "       [9.99878627e-01, 1.21373484e-04],\n",
       "       [9.99707379e-01, 2.92620617e-04],\n",
       "       [9.99497137e-01, 5.02863179e-04],\n",
       "       [9.99929499e-01, 7.05013577e-05],\n",
       "       [2.52341136e-01, 7.47658864e-01],\n",
       "       [9.93261141e-01, 6.73885905e-03],\n",
       "       [9.99891802e-01, 1.08197551e-04],\n",
       "       [9.96618535e-01, 3.38146529e-03],\n",
       "       [8.56697234e-01, 1.43302766e-01],\n",
       "       [9.99969152e-01, 3.08481783e-05],\n",
       "       [9.99595803e-01, 4.04197459e-04],\n",
       "       [9.99924674e-01, 7.53262370e-05],\n",
       "       [9.73473453e-01, 2.65265466e-02],\n",
       "       [6.83025351e-01, 3.16974649e-01],\n",
       "       [9.96533440e-01, 3.46655990e-03],\n",
       "       [9.98865876e-01, 1.13412391e-03],\n",
       "       [9.96864391e-01, 3.13560915e-03],\n",
       "       [6.71077251e-01, 3.28922749e-01],\n",
       "       [9.97819507e-01, 2.18049309e-03],\n",
       "       [9.99998988e-01, 1.01244595e-06],\n",
       "       [9.99980728e-01, 1.92723778e-05],\n",
       "       [9.68390552e-01, 3.16094483e-02],\n",
       "       [9.85555984e-01, 1.44440157e-02],\n",
       "       [9.80243822e-01, 1.97561784e-02],\n",
       "       [9.87108516e-01, 1.28914837e-02],\n",
       "       [9.81873593e-01, 1.81264071e-02],\n",
       "       [9.90169649e-01, 9.83035069e-03],\n",
       "       [9.99723691e-01, 2.76309474e-04],\n",
       "       [9.91902233e-01, 8.09776689e-03],\n",
       "       [9.99916162e-01, 8.38380792e-05],\n",
       "       [9.88527412e-01, 1.14725881e-02],\n",
       "       [9.99820040e-01, 1.79959764e-04],\n",
       "       [9.99822337e-01, 1.77662641e-04],\n",
       "       [9.99680814e-01, 3.19186447e-04],\n",
       "       [9.99878183e-01, 1.21817308e-04],\n",
       "       [9.99926848e-01, 7.31520609e-05],\n",
       "       [9.95029382e-01, 4.97061834e-03],\n",
       "       [9.99889326e-01, 1.10674367e-04],\n",
       "       [9.98047288e-01, 1.95271198e-03],\n",
       "       [9.99710533e-01, 2.89467492e-04],\n",
       "       [9.87749777e-01, 1.22502234e-02],\n",
       "       [8.49075815e-01, 1.50924185e-01],\n",
       "       [9.95264032e-01, 4.73596801e-03],\n",
       "       [9.65322945e-01, 3.46770550e-02],\n",
       "       [9.99679413e-01, 3.20586689e-04],\n",
       "       [9.84870520e-01, 1.51294798e-02],\n",
       "       [9.94179929e-01, 5.82007057e-03],\n",
       "       [9.96844992e-01, 3.15500788e-03],\n",
       "       [9.81846387e-01, 1.81536131e-02],\n",
       "       [9.99999794e-01, 2.05849141e-07],\n",
       "       [9.96752286e-01, 3.24771375e-03],\n",
       "       [9.99999241e-01, 7.58539171e-07],\n",
       "       [9.91137383e-01, 8.86261737e-03],\n",
       "       [9.23882073e-01, 7.61179271e-02],\n",
       "       [9.99261947e-01, 7.38052666e-04],\n",
       "       [9.99963019e-01, 3.69807987e-05],\n",
       "       [9.84569002e-01, 1.54309977e-02],\n",
       "       [9.99985683e-01, 1.43172399e-05],\n",
       "       [9.99855958e-01, 1.44041895e-04],\n",
       "       [9.99107052e-01, 8.92947955e-04],\n",
       "       [9.99388735e-01, 6.11265375e-04],\n",
       "       [9.99963323e-01, 3.66765696e-05],\n",
       "       [9.98149642e-01, 1.85035809e-03],\n",
       "       [9.61493963e-01, 3.85060374e-02],\n",
       "       [9.99735064e-01, 2.64935580e-04],\n",
       "       [9.96206749e-01, 3.79325102e-03],\n",
       "       [9.56231739e-01, 4.37682605e-02],\n",
       "       [9.97117315e-01, 2.88268516e-03],\n",
       "       [9.99836505e-01, 1.63495045e-04],\n",
       "       [9.11515432e-01, 8.84845676e-02],\n",
       "       [9.80012909e-01, 1.99870912e-02],\n",
       "       [9.71079994e-01, 2.89200065e-02],\n",
       "       [9.23985817e-01, 7.60141829e-02],\n",
       "       [9.14769678e-01, 8.52303218e-02],\n",
       "       [9.99998345e-01, 1.65453355e-06],\n",
       "       [6.01701549e-01, 3.98298451e-01],\n",
       "       [9.98990093e-01, 1.00990739e-03],\n",
       "       [9.99690178e-01, 3.09822245e-04],\n",
       "       [8.33984810e-01, 1.66015190e-01],\n",
       "       [9.99995589e-01, 4.41129516e-06],\n",
       "       [4.62829345e-01, 5.37170655e-01],\n",
       "       [8.85315338e-01, 1.14684662e-01],\n",
       "       [9.99988209e-01, 1.17912565e-05],\n",
       "       [9.99225214e-01, 7.74785705e-04],\n",
       "       [9.95742976e-01, 4.25702375e-03],\n",
       "       [9.99748462e-01, 2.51537735e-04],\n",
       "       [9.78546588e-01, 2.14534116e-02],\n",
       "       [9.99023149e-01, 9.76850621e-04],\n",
       "       [9.90209284e-01, 9.79071631e-03],\n",
       "       [9.83591259e-01, 1.64087412e-02],\n",
       "       [9.99910385e-01, 8.96146637e-05],\n",
       "       [9.99418088e-01, 5.81911710e-04],\n",
       "       [9.99999708e-01, 2.92251204e-07],\n",
       "       [9.96745386e-01, 3.25461418e-03],\n",
       "       [9.99943581e-01, 5.64188615e-05],\n",
       "       [9.99776778e-01, 2.23221806e-04],\n",
       "       [9.99935393e-01, 6.46068862e-05],\n",
       "       [9.32152621e-01, 6.78473787e-02],\n",
       "       [9.99787662e-01, 2.12337967e-04],\n",
       "       [2.68114275e-02, 9.73188573e-01],\n",
       "       [9.44196141e-01, 5.58038585e-02],\n",
       "       [9.99997642e-01, 2.35802230e-06],\n",
       "       [9.99792079e-01, 2.07920796e-04],\n",
       "       [9.99594241e-01, 4.05759379e-04],\n",
       "       [9.99988070e-01, 1.19296571e-05],\n",
       "       [5.71728865e-01, 4.28271135e-01],\n",
       "       [9.94806745e-01, 5.19325513e-03],\n",
       "       [9.91417954e-01, 8.58204584e-03],\n",
       "       [9.99995738e-01, 4.26200653e-06],\n",
       "       [7.97746897e-01, 2.02253103e-01],\n",
       "       [4.82065955e-01, 5.17934045e-01],\n",
       "       [9.99961978e-01, 3.80221937e-05],\n",
       "       [9.94768720e-01, 5.23127967e-03],\n",
       "       [9.87518120e-01, 1.24818804e-02],\n",
       "       [9.99872042e-01, 1.27958360e-04],\n",
       "       [9.98043895e-01, 1.95610540e-03],\n",
       "       [9.99615144e-01, 3.84856197e-04],\n",
       "       [9.99910836e-01, 8.91636324e-05],\n",
       "       [9.93920827e-01, 6.07917342e-03],\n",
       "       [9.04557659e-01, 9.54423412e-02],\n",
       "       [6.56683793e-01, 3.43316207e-01],\n",
       "       [9.99952511e-01, 4.74889543e-05],\n",
       "       [2.19336549e-01, 7.80663451e-01],\n",
       "       [1.53041265e-01, 8.46958735e-01],\n",
       "       [8.92086344e-01, 1.07913656e-01],\n",
       "       [9.99997860e-01, 2.13956925e-06],\n",
       "       [8.64783236e-01, 1.35216764e-01],\n",
       "       [9.99894351e-01, 1.05649317e-04],\n",
       "       [9.65208073e-01, 3.47919265e-02],\n",
       "       [9.98614128e-01, 1.38587206e-03],\n",
       "       [9.99513812e-01, 4.86188280e-04],\n",
       "       [9.99741895e-01, 2.58104579e-04],\n",
       "       [9.99521362e-01, 4.78638098e-04],\n",
       "       [3.07976631e-02, 9.69202337e-01],\n",
       "       [9.98977447e-01, 1.02255261e-03],\n",
       "       [9.99997679e-01, 2.32101080e-06],\n",
       "       [9.99986171e-01, 1.38291052e-05],\n",
       "       [9.98932043e-01, 1.06795692e-03],\n",
       "       [9.99890778e-01, 1.09222396e-04],\n",
       "       [9.97151540e-01, 2.84846040e-03],\n",
       "       [9.99788108e-01, 2.11891894e-04],\n",
       "       [9.99894574e-01, 1.05426450e-04],\n",
       "       [9.96526255e-01, 3.47374451e-03],\n",
       "       [9.89180451e-01, 1.08195492e-02],\n",
       "       [9.99685558e-01, 3.14442306e-04],\n",
       "       [9.99928784e-01, 7.12162232e-05],\n",
       "       [5.98266287e-01, 4.01733713e-01],\n",
       "       [9.99946801e-01, 5.31986197e-05],\n",
       "       [9.82683886e-01, 1.73161140e-02],\n",
       "       [9.99814966e-01, 1.85034336e-04],\n",
       "       [9.98133393e-01, 1.86660652e-03],\n",
       "       [9.99969924e-01, 3.00758624e-05],\n",
       "       [3.45479488e-01, 6.54520512e-01],\n",
       "       [9.88178369e-01, 1.18216312e-02],\n",
       "       [9.99803804e-01, 1.96195669e-04],\n",
       "       [7.06632894e-01, 2.93367106e-01],\n",
       "       [9.99913215e-01, 8.67853242e-05],\n",
       "       [9.96969072e-01, 3.03092789e-03],\n",
       "       [9.99141302e-01, 8.58698035e-04],\n",
       "       [9.91343265e-01, 8.65673541e-03],\n",
       "       [9.99881168e-01, 1.18831628e-04],\n",
       "       [9.99995549e-01, 4.45058410e-06],\n",
       "       [9.92236804e-01, 7.76319590e-03],\n",
       "       [9.99943152e-01, 5.68476683e-05],\n",
       "       [9.89504551e-01, 1.04954490e-02],\n",
       "       [9.99849162e-01, 1.50838303e-04],\n",
       "       [9.99920693e-01, 7.93067904e-05],\n",
       "       [9.99876950e-01, 1.23050091e-04],\n",
       "       [9.95729732e-01, 4.27026781e-03],\n",
       "       [9.96152068e-01, 3.84793226e-03],\n",
       "       [9.99723651e-01, 2.76349265e-04],\n",
       "       [9.99779843e-01, 2.20157143e-04],\n",
       "       [4.11451606e-01, 5.88548394e-01],\n",
       "       [9.99748230e-01, 2.51769751e-04],\n",
       "       [9.96343871e-01, 3.65612878e-03],\n",
       "       [9.69769699e-01, 3.02303011e-02],\n",
       "       [9.99544653e-01, 4.55347338e-04],\n",
       "       [9.99699452e-01, 3.00547649e-04],\n",
       "       [9.99966673e-01, 3.33266265e-05],\n",
       "       [9.98460642e-01, 1.53935801e-03],\n",
       "       [9.99323192e-01, 6.76808088e-04],\n",
       "       [8.97795705e-01, 1.02204295e-01],\n",
       "       [9.99963181e-01, 3.68194322e-05],\n",
       "       [9.99792095e-01, 2.07905219e-04],\n",
       "       [9.99942215e-01, 5.77852559e-05],\n",
       "       [9.99705531e-01, 2.94469125e-04],\n",
       "       [9.96541860e-01, 3.45813953e-03],\n",
       "       [9.98663815e-01, 1.33618497e-03],\n",
       "       [9.78786639e-01, 2.12133606e-02],\n",
       "       [7.52014296e-01, 2.47985704e-01],\n",
       "       [9.99955380e-01, 4.46199711e-05],\n",
       "       [9.99390772e-01, 6.09228275e-04],\n",
       "       [9.99790587e-01, 2.09413284e-04],\n",
       "       [9.71880830e-01, 2.81191700e-02],\n",
       "       [9.16317881e-01, 8.36821194e-02],\n",
       "       [9.99939876e-01, 6.01241174e-05],\n",
       "       [8.79718296e-01, 1.20281704e-01],\n",
       "       [9.96191336e-01, 3.80866418e-03],\n",
       "       [9.99688911e-01, 3.11089175e-04],\n",
       "       [7.77259627e-01, 2.22740373e-01],\n",
       "       [9.17602038e-01, 8.23979624e-02],\n",
       "       [9.99787357e-01, 2.12642713e-04],\n",
       "       [2.86811655e-02, 9.71318835e-01],\n",
       "       [9.80481137e-01, 1.95188630e-02],\n",
       "       [9.99991430e-01, 8.56974542e-06],\n",
       "       [9.97900287e-01, 2.09971266e-03],\n",
       "       [9.77736245e-01, 2.22637548e-02],\n",
       "       [9.94781243e-01, 5.21875736e-03],\n",
       "       [2.78160537e-02, 9.72183946e-01],\n",
       "       [9.99865688e-01, 1.34312177e-04],\n",
       "       [9.99538870e-01, 4.61129657e-04],\n",
       "       [9.99797218e-01, 2.02782371e-04],\n",
       "       [9.99177069e-01, 8.22930696e-04],\n",
       "       [9.99957720e-01, 4.22804417e-05],\n",
       "       [8.24927030e-01, 1.75072970e-01],\n",
       "       [9.68050720e-01, 3.19492796e-02],\n",
       "       [9.99709709e-01, 2.90291085e-04],\n",
       "       [9.66683300e-01, 3.33166998e-02],\n",
       "       [9.92232252e-01, 7.76774778e-03],\n",
       "       [9.99638827e-01, 3.61173368e-04],\n",
       "       [9.97880691e-01, 2.11930940e-03],\n",
       "       [9.99999741e-01, 2.58600587e-07],\n",
       "       [9.96417996e-01, 3.58200385e-03],\n",
       "       [9.42340128e-01, 5.76598716e-02],\n",
       "       [1.86987206e-01, 8.13012794e-01],\n",
       "       [9.99958929e-01, 4.10713466e-05],\n",
       "       [9.99998776e-01, 1.22420444e-06],\n",
       "       [9.02280415e-01, 9.77195854e-02],\n",
       "       [9.77977340e-01, 2.20226595e-02],\n",
       "       [9.93841838e-01, 6.15816240e-03],\n",
       "       [9.99394682e-01, 6.05317663e-04],\n",
       "       [9.91481817e-01, 8.51818343e-03],\n",
       "       [4.96148000e-01, 5.03852000e-01],\n",
       "       [9.50442466e-01, 4.95575344e-02],\n",
       "       [9.78996276e-01, 2.10037238e-02],\n",
       "       [9.96997599e-01, 3.00240124e-03],\n",
       "       [9.99627030e-01, 3.72969647e-04],\n",
       "       [9.99950126e-01, 4.98744189e-05],\n",
       "       [9.99843232e-01, 1.56768196e-04],\n",
       "       [4.59602168e-01, 5.40397832e-01],\n",
       "       [9.99638557e-01, 3.61442964e-04],\n",
       "       [9.99418078e-01, 5.81921711e-04],\n",
       "       [9.99138397e-01, 8.61602902e-04],\n",
       "       [9.78499447e-01, 2.15005535e-02],\n",
       "       [9.99956416e-01, 4.35844473e-05],\n",
       "       [8.34677573e-01, 1.65322427e-01],\n",
       "       [9.92962688e-01, 7.03731161e-03],\n",
       "       [9.97814013e-01, 2.18598678e-03],\n",
       "       [9.78440795e-01, 2.15592048e-02],\n",
       "       [8.36953719e-01, 1.63046281e-01],\n",
       "       [9.70140584e-01, 2.98594162e-02],\n",
       "       [9.99981896e-01, 1.81037288e-05],\n",
       "       [9.99863451e-01, 1.36548839e-04],\n",
       "       [9.99947364e-01, 5.26363841e-05],\n",
       "       [9.99420179e-01, 5.79820958e-04],\n",
       "       [9.99986483e-01, 1.35169138e-05],\n",
       "       [9.89718027e-01, 1.02819731e-02],\n",
       "       [9.99847825e-01, 1.52174689e-04],\n",
       "       [9.95427324e-01, 4.57267592e-03],\n",
       "       [9.84467480e-01, 1.55325200e-02],\n",
       "       [7.35068868e-01, 2.64931132e-01],\n",
       "       [9.99966255e-01, 3.37454554e-05],\n",
       "       [9.99923141e-01, 7.68594989e-05],\n",
       "       [9.97153972e-01, 2.84602789e-03],\n",
       "       [9.99847825e-01, 1.52174689e-04],\n",
       "       [9.73412895e-01, 2.65871052e-02],\n",
       "       [9.99393119e-01, 6.06880848e-04],\n",
       "       [7.94666397e-01, 2.05333603e-01],\n",
       "       [9.99545507e-01, 4.54492707e-04],\n",
       "       [9.99994196e-01, 5.80424968e-06],\n",
       "       [8.07646499e-03, 9.91923535e-01],\n",
       "       [9.94606145e-01, 5.39385454e-03],\n",
       "       [9.96258684e-01, 3.74131556e-03],\n",
       "       [9.96229619e-01, 3.77038100e-03],\n",
       "       [9.52616359e-01, 4.73836413e-02],\n",
       "       [9.90140996e-01, 9.85900445e-03],\n",
       "       [9.98898322e-01, 1.10167822e-03],\n",
       "       [9.99997053e-01, 2.94686482e-06],\n",
       "       [9.99900926e-01, 9.90736584e-05],\n",
       "       [9.99950620e-01, 4.93801829e-05],\n",
       "       [9.99693951e-01, 3.06048750e-04],\n",
       "       [9.99423743e-01, 5.76256714e-04],\n",
       "       [5.20503174e-01, 4.79496826e-01],\n",
       "       [4.97197721e-01, 5.02802279e-01],\n",
       "       [7.07490601e-01, 2.92509399e-01],\n",
       "       [9.17602038e-01, 8.23979624e-02],\n",
       "       [9.99693900e-01, 3.06099558e-04],\n",
       "       [8.87628918e-01, 1.12371082e-01],\n",
       "       [9.82276139e-01, 1.77238614e-02],\n",
       "       [7.48043260e-01, 2.51956740e-01],\n",
       "       [9.99639380e-01, 3.60619974e-04],\n",
       "       [9.99190501e-01, 8.09499235e-04],\n",
       "       [9.72702231e-01, 2.72977694e-02],\n",
       "       [7.24277084e-01, 2.75722916e-01],\n",
       "       [9.99866614e-01, 1.33386442e-04],\n",
       "       [9.99961288e-01, 3.87122239e-05],\n",
       "       [9.99624084e-01, 3.75916018e-04],\n",
       "       [9.78919919e-01, 2.10800813e-02],\n",
       "       [9.99785132e-01, 2.14867696e-04],\n",
       "       [9.94714732e-01, 5.28526764e-03],\n",
       "       [9.48507187e-01, 5.14928135e-02],\n",
       "       [5.69444135e-01, 4.30555865e-01],\n",
       "       [9.99999982e-01, 1.77366967e-08],\n",
       "       [1.01408599e-01, 8.98591401e-01],\n",
       "       [9.96158683e-01, 3.84131680e-03],\n",
       "       [9.70344556e-01, 2.96554444e-02],\n",
       "       [9.99846527e-01, 1.53473257e-04],\n",
       "       [9.56402045e-01, 4.35979545e-02],\n",
       "       [9.81975637e-01, 1.80243635e-02],\n",
       "       [9.99977327e-01, 2.26725673e-05],\n",
       "       [1.77945490e-01, 8.22054510e-01],\n",
       "       [9.99076275e-01, 9.23724781e-04],\n",
       "       [9.80353126e-01, 1.96468739e-02],\n",
       "       [9.92334928e-01, 7.66507186e-03],\n",
       "       [9.99715770e-01, 2.84229562e-04],\n",
       "       [8.19842967e-01, 1.80157033e-01],\n",
       "       [9.53998344e-01, 4.60016559e-02],\n",
       "       [9.81768849e-01, 1.82311507e-02],\n",
       "       [9.99998943e-01, 1.05654971e-06],\n",
       "       [9.85330458e-01, 1.46695419e-02],\n",
       "       [9.99239217e-01, 7.60783108e-04],\n",
       "       [9.99956245e-01, 4.37554532e-05],\n",
       "       [9.98208154e-01, 1.79184593e-03],\n",
       "       [9.99729472e-01, 2.70527587e-04],\n",
       "       [9.98711411e-01, 1.28858932e-03],\n",
       "       [9.99977728e-01, 2.22718813e-05],\n",
       "       [2.55126107e-01, 7.44873893e-01],\n",
       "       [9.93112854e-01, 6.88714611e-03]])"
      ]
     },
     "execution_count": 51,
     "metadata": {},
     "output_type": "execute_result"
    }
   ],
   "source": [
    "predictions"
   ]
  },
  {
   "cell_type": "markdown",
   "metadata": {},
   "source": [
    "<h2>Task 4</h2>\n",
    "\n",
    "Implement a class for recognition of any of the 10 digits. In order to do that, you have to train 10 models, each one will be responsible for the recognition of one of the digits. Once the models are trained, in order to classify a new image (i.e., in order to make predictions for a new image) you will make a probabilistic prediction with each of the 10 models, so that you have a probability for each of the 10 digits. Finally, you will select the digit with highest probability."
   ]
  },
  {
   "cell_type": "code",
   "execution_count": 52,
   "metadata": {},
   "outputs": [
    {
     "name": "stderr",
     "output_type": "stream",
     "text": [
      "D:\\pyt\\lib\\site-packages\\sklearn\\linear_model\\logistic.py:432: FutureWarning: Default solver will be changed to 'lbfgs' in 0.22. Specify a solver to silence this warning.\n",
      "  FutureWarning)\n",
      "D:\\pyt\\lib\\site-packages\\sklearn\\linear_model\\logistic.py:432: FutureWarning: Default solver will be changed to 'lbfgs' in 0.22. Specify a solver to silence this warning.\n",
      "  FutureWarning)\n",
      "D:\\pyt\\lib\\site-packages\\sklearn\\linear_model\\logistic.py:432: FutureWarning: Default solver will be changed to 'lbfgs' in 0.22. Specify a solver to silence this warning.\n",
      "  FutureWarning)\n",
      "D:\\pyt\\lib\\site-packages\\sklearn\\linear_model\\logistic.py:432: FutureWarning: Default solver will be changed to 'lbfgs' in 0.22. Specify a solver to silence this warning.\n",
      "  FutureWarning)\n",
      "D:\\pyt\\lib\\site-packages\\sklearn\\linear_model\\logistic.py:432: FutureWarning: Default solver will be changed to 'lbfgs' in 0.22. Specify a solver to silence this warning.\n",
      "  FutureWarning)\n",
      "D:\\pyt\\lib\\site-packages\\sklearn\\linear_model\\logistic.py:432: FutureWarning: Default solver will be changed to 'lbfgs' in 0.22. Specify a solver to silence this warning.\n",
      "  FutureWarning)\n",
      "D:\\pyt\\lib\\site-packages\\sklearn\\linear_model\\logistic.py:432: FutureWarning: Default solver will be changed to 'lbfgs' in 0.22. Specify a solver to silence this warning.\n",
      "  FutureWarning)\n",
      "D:\\pyt\\lib\\site-packages\\sklearn\\linear_model\\logistic.py:432: FutureWarning: Default solver will be changed to 'lbfgs' in 0.22. Specify a solver to silence this warning.\n",
      "  FutureWarning)\n",
      "D:\\pyt\\lib\\site-packages\\sklearn\\linear_model\\logistic.py:432: FutureWarning: Default solver will be changed to 'lbfgs' in 0.22. Specify a solver to silence this warning.\n",
      "  FutureWarning)\n",
      "D:\\pyt\\lib\\site-packages\\sklearn\\linear_model\\logistic.py:432: FutureWarning: Default solver will be changed to 'lbfgs' in 0.22. Specify a solver to silence this warning.\n",
      "  FutureWarning)\n"
     ]
    }
   ],
   "source": [
    "class DigitRecognizer:\n",
    "\n",
    "    def __init__(self):\n",
    "        self.train_data = None\n",
    "        self.train_labels = None\n",
    "        self.classification_models = [] # models corresponding to classifying each digit\n",
    "\n",
    "    def train_model_to_classify_digit(self, digit):\n",
    "        model = sklearn.linear_model.LogisticRegression()\n",
    "        model.fit(train_data, train_labels[:, digit])\n",
    "        return model\n",
    "\n",
    "    def train(self, train_data, train_labels):\n",
    "        self.train_data = train_data\n",
    "        self.train_labels = train_labels\n",
    "        self.classification_models = []\n",
    "\n",
    "        for digit in range(0, 10):\n",
    "            model = self.train_model_to_classify_digit(digit)\n",
    "            self.classification_models.append(model)\n",
    "\n",
    "    def predict(self, test_data):\n",
    "        predict_scores = []\n",
    "        for digit, model in enumerate(self.classification_models):\n",
    "            score = model.predict_proba(test_data)[:, 1].reshape(-1, 1)\n",
    "            predict_scores.append(score)\n",
    "\n",
    "        pred = np.hstack(predict_scores)\n",
    "        pred_labels = np.argmax(pred, axis=1)\n",
    "        return pred_labels\n",
    "\n",
    "\n",
    "dr = DigitRecognizer()\n",
    "dr.train(train_data, train_labels)\n",
    "predictions = dr.predict(val_data)"
   ]
  },
  {
   "cell_type": "code",
   "execution_count": 53,
   "metadata": {},
   "outputs": [],
   "source": [
    "dr = DigitRecognizer()"
   ]
  },
  {
   "cell_type": "code",
   "execution_count": 54,
   "metadata": {},
   "outputs": [
    {
     "name": "stderr",
     "output_type": "stream",
     "text": [
      "D:\\pyt\\lib\\site-packages\\sklearn\\linear_model\\logistic.py:432: FutureWarning: Default solver will be changed to 'lbfgs' in 0.22. Specify a solver to silence this warning.\n",
      "  FutureWarning)\n",
      "D:\\pyt\\lib\\site-packages\\sklearn\\linear_model\\logistic.py:432: FutureWarning: Default solver will be changed to 'lbfgs' in 0.22. Specify a solver to silence this warning.\n",
      "  FutureWarning)\n",
      "D:\\pyt\\lib\\site-packages\\sklearn\\linear_model\\logistic.py:432: FutureWarning: Default solver will be changed to 'lbfgs' in 0.22. Specify a solver to silence this warning.\n",
      "  FutureWarning)\n",
      "D:\\pyt\\lib\\site-packages\\sklearn\\linear_model\\logistic.py:432: FutureWarning: Default solver will be changed to 'lbfgs' in 0.22. Specify a solver to silence this warning.\n",
      "  FutureWarning)\n",
      "D:\\pyt\\lib\\site-packages\\sklearn\\linear_model\\logistic.py:432: FutureWarning: Default solver will be changed to 'lbfgs' in 0.22. Specify a solver to silence this warning.\n",
      "  FutureWarning)\n",
      "D:\\pyt\\lib\\site-packages\\sklearn\\linear_model\\logistic.py:432: FutureWarning: Default solver will be changed to 'lbfgs' in 0.22. Specify a solver to silence this warning.\n",
      "  FutureWarning)\n",
      "D:\\pyt\\lib\\site-packages\\sklearn\\linear_model\\logistic.py:432: FutureWarning: Default solver will be changed to 'lbfgs' in 0.22. Specify a solver to silence this warning.\n",
      "  FutureWarning)\n",
      "D:\\pyt\\lib\\site-packages\\sklearn\\linear_model\\logistic.py:432: FutureWarning: Default solver will be changed to 'lbfgs' in 0.22. Specify a solver to silence this warning.\n",
      "  FutureWarning)\n",
      "D:\\pyt\\lib\\site-packages\\sklearn\\linear_model\\logistic.py:432: FutureWarning: Default solver will be changed to 'lbfgs' in 0.22. Specify a solver to silence this warning.\n",
      "  FutureWarning)\n",
      "D:\\pyt\\lib\\site-packages\\sklearn\\linear_model\\logistic.py:432: FutureWarning: Default solver will be changed to 'lbfgs' in 0.22. Specify a solver to silence this warning.\n",
      "  FutureWarning)\n"
     ]
    }
   ],
   "source": [
    "dr.train(train_data, train_labels)"
   ]
  },
  {
   "cell_type": "code",
   "execution_count": 55,
   "metadata": {},
   "outputs": [],
   "source": [
    "predictions = dr.predict(val_data)"
   ]
  },
  {
   "cell_type": "code",
   "execution_count": 56,
   "metadata": {},
   "outputs": [
    {
     "data": {
      "text/plain": [
       "array([5, 5, 4, 6, 5, 6, 8, 8, 9, 6, 9, 2, 3, 9, 7, 8, 0, 6, 0, 6, 9, 3,\n",
       "       3, 6, 3, 5, 2, 7, 9, 7, 6, 8, 1, 6, 1, 7, 7, 1, 8, 7, 5, 0, 8, 7,\n",
       "       0, 7, 4, 9, 8, 6, 2, 7, 0, 6, 1, 6, 0, 2, 0, 9, 8, 1, 4, 1, 6, 7,\n",
       "       6, 0, 7, 5, 6, 3, 8, 6, 8, 4, 2, 6, 8, 1, 8, 7, 5, 2, 8, 6, 6, 6,\n",
       "       6, 3, 1, 8, 4, 0, 1, 2, 2, 8, 2, 2, 3, 7, 7, 8, 5, 1, 7, 3, 1, 4,\n",
       "       6, 7, 8, 6, 1, 9, 9, 6, 3, 3, 0, 3, 3, 1, 2, 7, 4, 4, 3, 6, 6, 6,\n",
       "       6, 1, 0, 1, 3, 8, 4, 0, 9, 2, 7, 7, 1, 1, 6, 9, 4, 8, 0, 8, 3, 2,\n",
       "       3, 3, 6, 7, 6, 1, 4, 9, 1, 6, 8, 2, 7, 8, 2, 9, 1, 7, 7, 4, 1, 3,\n",
       "       8, 9, 1, 2, 7, 9, 9, 9, 2, 8, 2, 1, 3, 8, 5, 4, 9, 2, 3, 6, 9, 2,\n",
       "       1, 6, 8, 6, 1, 0, 1, 1, 0, 0, 1, 6, 7, 0, 6, 2, 0, 6, 2, 8, 1, 0,\n",
       "       6, 9, 9, 4, 1, 8, 9, 3, 9, 7, 5, 3, 1, 3, 6, 6, 1, 0, 8, 1, 1, 6,\n",
       "       1, 8, 2, 8, 9, 2, 2, 6, 5, 0, 2, 5, 3, 9, 9, 1, 6, 0, 1, 8, 0, 2,\n",
       "       4, 3, 5, 7, 0, 3, 5, 8, 1, 4, 6, 7, 0, 8, 2, 9, 4, 9, 8, 1, 3, 6,\n",
       "       6, 6, 0, 7, 2, 8, 1, 0, 1, 8, 1, 7, 6, 3, 0, 4, 2, 6, 0, 8, 5, 4,\n",
       "       3, 6, 1, 7, 0, 3, 7, 6, 6, 9, 8, 0, 8, 6, 6, 6, 8, 5, 9, 5, 1, 3,\n",
       "       3, 6, 7, 5, 3, 9, 0, 3, 9, 3, 1, 9, 7, 7, 1, 9, 2, 6, 6, 7, 0, 1,\n",
       "       4, 8, 9, 0, 2, 2, 0, 6, 9, 9, 3, 0, 3, 9, 1, 1, 9, 5, 1, 1, 2, 7,\n",
       "       2, 9, 3, 6, 1, 6, 6, 3, 9, 5, 6, 9, 6, 7, 9, 8, 3, 9, 6, 4, 3, 3,\n",
       "       9, 6, 4, 7, 9, 6, 5, 7, 8, 7, 6, 3, 6, 9, 5, 8, 1, 1, 7, 2, 6, 9,\n",
       "       9, 6, 6, 2, 2, 7, 9, 7, 6, 4, 3, 0, 6, 8, 8, 6, 6, 6, 0, 0, 6, 6,\n",
       "       0, 7, 8, 0, 5, 5, 8, 3, 1, 4, 2, 5, 3, 0, 8, 6, 9, 2, 1, 2, 3, 3,\n",
       "       6, 6, 3, 8, 4, 4, 7, 2, 1, 0, 6, 6, 4, 8, 9, 5, 3, 7, 2, 3, 8, 7,\n",
       "       0, 7, 1, 2, 9, 5, 7, 2, 6, 7, 6, 7, 6, 7, 8, 3], dtype=int64)"
      ]
     },
     "execution_count": 56,
     "metadata": {},
     "output_type": "execute_result"
    }
   ],
   "source": [
    "predictions"
   ]
  },
  {
   "cell_type": "code",
   "execution_count": 57,
   "metadata": {},
   "outputs": [
    {
     "data": {
      "image/png": "[encoded data removed]",
      "text/plain": [
       "<Figure size 1440x144 with 1 Axes>"
      ]
     },
     "metadata": {
      "needs_background": "light"
     },
     "output_type": "display_data"
    },
    {
     "data": {
      "image/png": "[encoded data removed]",
      "text/plain": [
       "<Figure size 1440x144 with 1 Axes>"
      ]
     },
     "metadata": {
      "needs_background": "light"
     },
     "output_type": "display_data"
    },
    {
     "data": {
      "image/png": "[encoded data removed]",
      "text/plain": [
       "<Figure size 1440x144 with 1 Axes>"
      ]
     },
     "metadata": {
      "needs_background": "light"
     },
     "output_type": "display_data"
    },
    {
     "data": {
      "image/png": "[encoded data removed]",
      "text/plain": [
       "<Figure size 1440x144 with 1 Axes>"
      ]
     },
     "metadata": {
      "needs_background": "light"
     },
     "output_type": "display_data"
    },
    {
     "data": {
      "image/png": "[encoded data removed]",
      "text/plain": [
       "<Figure size 1440x144 with 1 Axes>"
      ]
     },
     "metadata": {
      "needs_background": "light"
     },
     "output_type": "display_data"
    }
   ],
   "source": [
    "visualize_data(val_data[predictions==1], 10)"
   ]
  },
  {
   "cell_type": "code",
   "execution_count": 58,
   "metadata": {},
   "outputs": [
    {
     "data": {
      "image/png": "[encoded data removed]",
      "text/plain": [
       "<Figure size 1440x144 with 1 Axes>"
      ]
     },
     "metadata": {
      "needs_background": "light"
     },
     "output_type": "display_data"
    },
    {
     "data": {
      "image/png": "[encoded data removed]",
      "text/plain": [
       "<Figure size 1440x144 with 1 Axes>"
      ]
     },
     "metadata": {
      "needs_background": "light"
     },
     "output_type": "display_data"
    },
    {
     "data": {
      "image/png": "[encoded data removed]",
      "text/plain": [
       "<Figure size 1440x144 with 1 Axes>"
      ]
     },
     "metadata": {
      "needs_background": "light"
     },
     "output_type": "display_data"
    },
    {
     "data": {
      "image/png": "[encoded data removed]",
      "text/plain": [
       "<Figure size 1440x144 with 1 Axes>"
      ]
     },
     "metadata": {
      "needs_background": "light"
     },
     "output_type": "display_data"
    },
    {
     "data": {
      "image/png": "[encoded data removed]",
      "text/plain": [
       "<Figure size 1440x144 with 1 Axes>"
      ]
     },
     "metadata": {
      "needs_background": "light"
     },
     "output_type": "display_data"
    },
    {
     "data": {
      "text/plain": [
       "'54 samples are reconginized as digit 8'"
      ]
     },
     "execution_count": 58,
     "metadata": {},
     "output_type": "execute_result"
    }
   ],
   "source": [
    "visualize_data(val_data[predictions == 8], 10)\n",
    "\"{} samples are reconginized as digit 8\". format(val_data[predictions==8].shape[0])"
   ]
  },
  {
   "cell_type": "code",
   "execution_count": null,
   "metadata": {},
   "outputs": [],
   "source": []
  },
  {
   "cell_type": "code",
   "execution_count": null,
   "metadata": {},
   "outputs": [],
   "source": []
  }
 ],
 "metadata": {
  "kernelspec": {
   "display_name": "Python 3",
   "language": "python",
   "name": "python3"
  },
  "language_info": {
   "codemirror_mode": {
    "name": "ipython",
    "version": 3
   },
   "file_extension": ".py",
   "mimetype": "text/x-python",
   "name": "python",
   "nbconvert_exporter": "python",
   "pygments_lexer": "ipython3",
   "version": "3.7.4"
  }
 },
 "nbformat": 4,
 "nbformat_minor": 2
}
